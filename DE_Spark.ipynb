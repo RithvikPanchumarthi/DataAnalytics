{
  "nbformat": 4,
  "nbformat_minor": 0,
  "metadata": {
    "colab": {
      "provenance": [],
      "collapsed_sections": [
        "43xk_A9-4yBq",
        "AcV-eT6b2QJQ"
      ],
      "mount_file_id": "1SuIPzNBKnHILl86PWtMy9QDL79bDGBh3",
      "authorship_tag": "ABX9TyP4+X3yXPNRv+XHTBdWhUiC",
      "include_colab_link": true
    },
    "kernelspec": {
      "name": "python3",
      "display_name": "Python 3"
    },
    "language_info": {
      "name": "python"
    }
  },
  "cells": [
    {
      "cell_type": "markdown",
      "metadata": {
        "id": "view-in-github",
        "colab_type": "text"
      },
      "source": [
        "<a href=\"https://colab.research.google.com/github/RithvikPanchumarthi/DataAnalytics/blob/main/DE_Spark.ipynb\" target=\"_parent\"><img src=\"https://colab.research.google.com/assets/colab-badge.svg\" alt=\"Open In Colab\"/></a>"
      ]
    },
    {
      "cell_type": "markdown",
      "source": [
        "# SparkApp creation"
      ],
      "metadata": {
        "id": "p3gHxfyD2ym-"
      }
    },
    {
      "cell_type": "markdown",
      "source": [
        "SparkContext Creation prior to Pyspark2.0"
      ],
      "metadata": {
        "id": "uzI_auP-XyLS"
      }
    },
    {
      "cell_type": "code",
      "source": [
        "# from pyspark import SparkConf, SparkContext\n",
        "# conf = SparkConf()\n",
        "# conf.setMaster(\"local\").setAppName(\"SparkAppName\")\n",
        "# sc = SparkContext.getOrCreate(conf)\n",
        "# print(sc.appName)"
      ],
      "metadata": {
        "id": "qRZ3SHImXvly"
      },
      "execution_count": null,
      "outputs": []
    },
    {
      "cell_type": "code",
      "source": [
        "from pyspark.sql import SparkSession\n",
        "from pyspark.sql.types import StructType, StructField, StringType, IntegerType\n",
        "from pyspark.sql.functions import *\n",
        "\n",
        "# from google.colab import drive # Uncomment if you're using Google Colab and need to mount your drive\n",
        "\n",
        "# drive.mount('/content/drive') # Uncomment and run if you're using Google Colab\n",
        "\n",
        "# Create a SparkSession\n",
        "# If one already exists, Spark will use it; otherwise, it creates a new one.\n",
        "spark = SparkSession.builder.appName(\"SparkApplication\").getOrCreate()\n",
        "\n",
        "# Now you can access the SparkContext if needed via spark.sparkContext\n",
        "sc = spark.sparkContext"
      ],
      "metadata": {
        "id": "40KayUztX2Hs"
      },
      "execution_count": 166,
      "outputs": []
    },
    {
      "cell_type": "code",
      "source": [
        "\n",
        "# SparkContext stop() method\n",
        "#spark.sparkContext.stop()\n"
      ],
      "metadata": {
        "id": "b1aH4GPRUnTk"
      },
      "execution_count": 151,
      "outputs": []
    },
    {
      "cell_type": "markdown",
      "source": [
        "# RDD"
      ],
      "metadata": {
        "id": "Wu1QNY7H3DWp"
      }
    },
    {
      "cell_type": "markdown",
      "source": [
        "PySpark RDD – Resilient Distributed Dataset\n",
        "\n",
        "This is a fundamental data structure that is fault-tolerant, immutable, and distributed collections of objects. RDDs are immutable, meaning they cannot be changed once created. Any transformation on an RDD results in a new RDD. Each dataset in RDD is divided into logical partitions, which can be computed on different nodes of the cluster."
      ],
      "metadata": {
        "id": "nIg-ILYPYQDE"
      }
    },
    {
      "cell_type": "code",
      "source": [
        "# 2. Specify the path to your CSV file\n",
        "# Replace 'csv_file.csv' with the actual path to your file\n",
        "# Example path if in Google Drive: '/content/drive/My Drive/csv_file.csv'\n",
        "# Example path if uploaded directly to Colab: '/content/csv_file.csv'\n",
        "csv_file_path = '/content/sample_data/lowes_home_appliances.csv'\n",
        "\n",
        "csv_rdd = sc.textFile(csv_file_path)\n",
        "# 3. Load the CSV file into an RDD\n",
        "\n",
        "\n",
        "# You can now work with the csv_rdd\n"
      ],
      "metadata": {
        "id": "OJzuw9IyJl-f"
      },
      "execution_count": 165,
      "outputs": []
    },
    {
      "cell_type": "markdown",
      "source": [
        "We can perform two types of RDD Operations\n",
        "\n",
        "\n",
        "\n",
        "1.   Transformations\n",
        "2.   Actions\n",
        "\n",
        "RDD transformations in PySpark are lazy operations and they execute only when an action is called on RDD.\n",
        "\n",
        "Transformation operations are\n",
        "\n",
        "\n",
        "*   map, filter, flatMap, groupByKey, reduceByKey, join, union, sortByKey, distinct, sample, mapPartitions, and aggregateByKey.\n",
        "\n",
        "\n",
        "These functions transform RDDs by applying computations in a distributed manner across a cluster of machines and return a new RDD\n",
        "\n",
        "RDD actions in PySpark trigger computations and return results to the Spark driver.\n",
        "\n",
        "\n",
        "\n",
        "*   collect, count, take, reduce, foreach, first, takeOrdered, takeSample, countByKey, saveAsTextFile, saveAsSequenceFile, saveAsObjectFile, foreachPartition, collectAsMap, aggregate, and fold.\n",
        "\n",
        "\n",
        "\n",
        "Note: These actions initiate execution and materialize RDD data. Remember any RDD operation that returns non RDD is considered as an action."
      ],
      "metadata": {
        "id": "8Z_T-E5xaAL9"
      }
    },
    {
      "cell_type": "code",
      "source": [
        "#display 10 rows\n",
        "\n",
        "csv_rdd.take(10)"
      ],
      "metadata": {
        "colab": {
          "base_uri": "https://localhost:8080/"
        },
        "collapsed": true,
        "id": "6dnASqJVaCFl",
        "outputId": "bb7d4b53-4ab6-4da9-b5c2-06d4db9d0324"
      },
      "execution_count": 46,
      "outputs": [
        {
          "output_type": "execute_result",
          "data": {
            "text/plain": [
              "['CATEGORY,DATE_SCRAPED,SORT_BY,RUN_START_DATE,SUBCATEGORY,SHIPPING_LOCATION,SKU,COUNTRY,BRAND,PRICE_RETAIL,PRICE_CURRENT,SELLER,PRODUCT_URL,CURRENCY,BREADCRUMBS,DEPARTMENT,PROMOTION,BESTSELLER_RANK,PRODUCT_NAME,WEBSITE_URL',\n",
              " 'Refrigerators,2022-04-18T16:54:01+8:00,Best Sellers,2022-04-18T16:45:50+8:00,Bottom-Freezer Refrigerators,06854,5001252387,USA,Hisense,999.00,999.00,LOWES,https://www.lowes.com/pd/Hisense-17-2-cu-ft-Bottom-Freezer-Refrigerator-Stainless-steel-ENERGY-STAR/5001252387,USD,Appliances>Refrigerators>Bottom-Freezer Refrigerators,Appliances,,1,17.2-cu ft Counter-depth Bottom-Freezer Refrigerator (Fingerprint Resistant Stainless Steel) ENERGY STAR,http://www.lowes.com/',\n",
              " 'Refrigerators,2022-04-18T16:54:01+8:00,Best Sellers,2022-04-18T16:45:50+8:00,Bottom-Freezer Refrigerators,06854,1002543648,USA,LG,1799.00,1599.00,LOWES,https://www.lowes.com/pd/LG-25-5-cu-ft-Bottom-Freezer-Refrigerator-with-Ice-Maker-Fingerprint-Resistant-Printproof-Stainless-Steel-ENERGY-STAR/1002543648,USD,Appliances>Refrigerators>Bottom-Freezer Refrigerators,Appliances,Save 11% Ends Apr 20,2,25.5-cu ft Bottom-Freezer Refrigerator with Ice Maker (Printproof Stainless Steel) ENERGY STAR,http://www.lowes.com/',\n",
              " 'Refrigerators,2022-04-18T16:54:01+8:00,Best Sellers,2022-04-18T16:45:50+8:00,Bottom-Freezer Refrigerators,06854,5001252393,USA,Hisense,1049.00,1049.00,LOWES,https://www.lowes.com/pd/Hisense-17-2-cu-ft-Bottom-Freezer-Refrigerator-Single-Ice-Maker-Stainless-steel-ENERGY-STAR/5001252393,USD,Appliances>Refrigerators>Bottom-Freezer Refrigerators,Appliances,,3,17.2-cu ft Counter-Depth Bottom-Freezer Refrigerator with Ice Maker (Stainless Steel) ENERGY STAR,http://www.lowes.com/',\n",
              " 'Refrigerators,2022-04-18T16:54:01+8:00,Best Sellers,2022-04-18T16:45:50+8:00,Bottom-Freezer Refrigerators,06854,50161485,USA,Whirlpool,1999.00,1799.00,LOWES,https://www.lowes.com/pd/Whirlpool-22-07-cu-ft-Bottom-Freezer-Refrigerator-with-Ice-Maker-Stainless-Steel-ENERGY-STAR/50161485,USD,Appliances>Refrigerators>Bottom-Freezer Refrigerators,Appliances,Save 10% Ends Apr 20,4,22.07-cu ft Bottom-Freezer Refrigerator with Ice Maker (Stainless Steel) ENERGY STAR,http://www.lowes.com/',\n",
              " 'Refrigerators,2022-04-18T16:54:01+8:00,Best Sellers,2022-04-18T16:45:50+8:00,Bottom-Freezer Refrigerators,06854,5001252389,USA,Hisense,949.00,949.00,LOWES,https://www.lowes.com/pd/Hisense-N-17-2-cu-ft-Bottom-Freezer-Refrigerator-White-ENERGY-STAR/5001252389,USD,Appliances>Refrigerators>Bottom-Freezer Refrigerators,Appliances,,5,17.2-cu ft Counter-Depth Bottom-Freezer Refrigerator (White) ENERGY STAR,http://www.lowes.com/',\n",
              " 'Refrigerators,2022-04-18T16:54:01+8:00,Best Sellers,2022-04-18T16:45:50+8:00,Bottom-Freezer Refrigerators,06854,5001252391,USA,Hisense,949.00,949.00,LOWES,https://www.lowes.com/pd/Hisense-17-2-cu-ft-Bottom-Freezer-Refrigerator-Black-ENERGY-STAR/5001252391,USD,Appliances>Refrigerators>Bottom-Freezer Refrigerators,Appliances,,6,17.2-cu ft Counter-depth Bottom-Freezer Refrigerator (Black Metallic Steel) ENERGY STAR,http://www.lowes.com/',\n",
              " 'Refrigerators,2022-04-18T16:54:01+8:00,Best Sellers,2022-04-18T16:45:50+8:00,Bottom-Freezer Refrigerators,06854,50161487,USA,Whirlpool,1899.00,1709.00,LOWES,https://www.lowes.com/pd/Whirlpool-22-07-cu-ft-Bottom-Freezer-Refrigerator-with-Ice-Maker-White-ENERGY-STAR/50161487,USD,Appliances>Refrigerators>Bottom-Freezer Refrigerators,Appliances,Save 10% Ends Apr 20,7,22.07-cu ft Bottom-Freezer Refrigerator with Ice Maker (White) ENERGY STAR,http://www.lowes.com/',\n",
              " 'Refrigerators,2022-04-18T16:54:02+8:00,Best Sellers,2022-04-18T16:45:50+8:00,Bottom-Freezer Refrigerators,06854,5001723783,USA,Hisense,1299.00,1299.00,LOWES,https://www.lowes.com/pd/Hisense-20-75-cu-ft-Bottom-Freezer-Refrigerator-Single-Ice-Maker-Stainless-steel-ENERGY-STAR/5001723783,USD,Appliances>Refrigerators>Bottom-Freezer Refrigerators,Appliances,,8,20.9-cu ft Bottom-Freezer Refrigerator with Ice Maker (Stainless Steel) ENERGY STAR,http://www.lowes.com/',\n",
              " 'Refrigerators,2022-04-18T16:54:02+8:00,Best Sellers,2022-04-18T16:45:50+8:00,Bottom-Freezer Refrigerators,06854,50161483,USA,Whirlpool,1899.00,1709.00,LOWES,https://www.lowes.com/pd/Whirlpool-22-07-cu-ft-Bottom-Freezer-Refrigerator-with-Ice-Maker-Black-ENERGY-STAR/50161483,USD,Appliances>Refrigerators>Bottom-Freezer Refrigerators,Appliances,Save 10% Ends Apr 20,9,22.07-cu ft Bottom-Freezer Refrigerator with Ice Maker (Black) ENERGY STAR,http://www.lowes.com/']"
            ]
          },
          "metadata": {},
          "execution_count": 46
        }
      ]
    },
    {
      "cell_type": "markdown",
      "source": [
        "# DataFrame"
      ],
      "metadata": {
        "id": "UfxYMw5B3MHz"
      }
    },
    {
      "cell_type": "markdown",
      "source": [
        "PySpark DataFrame\n",
        "\n",
        "DataFrame is a distributed dataset comprising data arranged in rows and columns with named attributes. Sharing similarities with relational database tables or Python data frames but incorporates sophisticated optimizations."
      ],
      "metadata": {
        "id": "Kdlprxk8mrlL"
      }
    },
    {
      "cell_type": "code",
      "source": [
        "# Create DataFrame\n",
        "data = [('John','','Cena','1991-01-01','M',3000),\n",
        "  ('Michael','Rose','','2000-05-19','M',4000),\n",
        "  ('Robert','','Williams','1978-09-05','M',4000),\n",
        "  ('Maria','Anne','Jones','1967-12-01','F',4000),\n",
        "  ('Jen','Mary','Brown','1980-02-17','F',-1)\n",
        "]\n",
        "\n",
        "columns = [\"firstname\",\"middlename\",\"lastname\",\"DOB\",\"gender\",\"salary\"]\n",
        "list_df = spark.createDataFrame(data=data, schema = columns)"
      ],
      "metadata": {
        "id": "ebK7YONWmvFf"
      },
      "execution_count": 154,
      "outputs": []
    },
    {
      "cell_type": "code",
      "source": [
        "list_df.printSchema()"
      ],
      "metadata": {
        "colab": {
          "base_uri": "https://localhost:8080/"
        },
        "collapsed": true,
        "id": "Eb7L2A95qMLO",
        "outputId": "3c40d837-2724-432e-94b9-7f8960b92778"
      },
      "execution_count": 149,
      "outputs": [
        {
          "output_type": "stream",
          "name": "stdout",
          "text": [
            "root\n",
            " |-- firstname: string (nullable = true)\n",
            " |-- middlename: string (nullable = true)\n",
            " |-- lastname: string (nullable = true)\n",
            " |-- DOB: string (nullable = true)\n",
            " |-- gender: string (nullable = true)\n",
            " |-- salary: long (nullable = true)\n",
            "\n"
          ]
        }
      ]
    },
    {
      "cell_type": "code",
      "source": [
        "list_df.show(10)"
      ],
      "metadata": {
        "colab": {
          "base_uri": "https://localhost:8080/"
        },
        "collapsed": true,
        "id": "_TmyBD3qqPMh",
        "outputId": "03eb7cec-9a79-48e0-c3ad-a577dd7beefa"
      },
      "execution_count": 49,
      "outputs": [
        {
          "output_type": "stream",
          "name": "stdout",
          "text": [
            "+---------+----------+--------+----------+------+------+\n",
            "|firstname|middlename|lastname|       DOB|gender|salary|\n",
            "+---------+----------+--------+----------+------+------+\n",
            "|     John|          |    Cena|1991-01-01|     M|  3000|\n",
            "|  Michael|      Rose|        |2000-05-19|     M|  4000|\n",
            "|   Robert|          |Williams|1978-09-05|     M|  4000|\n",
            "|    Maria|      Anne|   Jones|1967-12-01|     F|  4000|\n",
            "|      Jen|      Mary|   Brown|1980-02-17|     F|    -1|\n",
            "+---------+----------+--------+----------+------+------+\n",
            "\n"
          ]
        }
      ]
    },
    {
      "cell_type": "markdown",
      "source": [
        "Supported file formats\n",
        "\n",
        "Apache Spark,supports a rich set of APIs to read and write several file formats.\n",
        "\n",
        "Text Files (.txt)\n",
        "CSV Files (.csv)\n",
        "TSV Files (.tsv)\n",
        "Avro Files (.avro)\n",
        "JSON Files (.json)\n",
        "Parquet (.parquet)\n",
        "ORC Files (.orc)\n",
        "XML Files and many other formats"
      ],
      "metadata": {
        "id": "mZOJwbt3q2u8"
      }
    },
    {
      "cell_type": "markdown",
      "source": [
        "Creating DataFrame from the Files"
      ],
      "metadata": {
        "id": "Kp3_MT4DrD_w"
      }
    },
    {
      "cell_type": "code",
      "source": [
        "# Create DataFrame from CSV file\n",
        "csv_df = spark.read.csv(\"/content/sample_data/lowes_home_appliances.csv\", header=True, inferSchema=True)"
      ],
      "metadata": {
        "collapsed": true,
        "id": "UZCkBT3LrIeh"
      },
      "execution_count": 50,
      "outputs": []
    },
    {
      "cell_type": "markdown",
      "source": [
        "# Nested Column"
      ],
      "metadata": {
        "id": "43xk_A9-4yBq"
      }
    },
    {
      "cell_type": "code",
      "source": [
        "data_to_nest = [(('James','','Smith'),'1991-04-01','M',3000),\n",
        "  (('Michael','Rose',''),'2000-05-19','M',4000),\n",
        "  (('Robert','','Williams'),'1978-09-05','M',4000),\n",
        "  (('Maria','Anne','Jones'),'1967-12-01','F',4000),\n",
        "  (('Jen','Mary','Brown'),'1980-02-17','F',-1)\n",
        "]"
      ],
      "metadata": {
        "id": "I1jKnzSfy3NR"
      },
      "execution_count": 51,
      "outputs": []
    },
    {
      "cell_type": "code",
      "source": [
        "schema = StructType([\n",
        "        StructField('name', StructType([\n",
        "             StructField('firstname', StringType(), True),\n",
        "             StructField('middlename', StringType(), True),\n",
        "             StructField('lastname', StringType(), True)\n",
        "             ])),\n",
        "         StructField('dob', StringType(), True),\n",
        "         StructField('gender', StringType(), True),\n",
        "         StructField('salary', IntegerType(), True)\n",
        "         ])"
      ],
      "metadata": {
        "id": "HQ82DAl_yNwt"
      },
      "execution_count": 52,
      "outputs": []
    },
    {
      "cell_type": "code",
      "source": [
        "nested_df = spark.createDataFrame(data = data_to_nest, schema = schema)\n",
        "nested_df.printSchema()"
      ],
      "metadata": {
        "colab": {
          "base_uri": "https://localhost:8080/"
        },
        "collapsed": true,
        "id": "DZA5YoQPye5t",
        "outputId": "68ce9db6-13ed-48a4-d923-27a369d0e944"
      },
      "execution_count": 53,
      "outputs": [
        {
          "output_type": "stream",
          "name": "stdout",
          "text": [
            "root\n",
            " |-- name: struct (nullable = true)\n",
            " |    |-- firstname: string (nullable = true)\n",
            " |    |-- middlename: string (nullable = true)\n",
            " |    |-- lastname: string (nullable = true)\n",
            " |-- dob: string (nullable = true)\n",
            " |-- gender: string (nullable = true)\n",
            " |-- salary: integer (nullable = true)\n",
            "\n"
          ]
        }
      ]
    },
    {
      "cell_type": "markdown",
      "source": [
        "# Column Operations\n",
        "  withColumnRenamed()"
      ],
      "metadata": {
        "id": "AcV-eT6b2QJQ"
      }
    },
    {
      "cell_type": "markdown",
      "source": [
        "PySpark withColumnRenamed – To rename column or multiple columns"
      ],
      "metadata": {
        "id": "SHEuSk_D66MW"
      }
    },
    {
      "cell_type": "code",
      "source": [
        "nested_df.withColumnRenamed(\"dob\",\"DateOfBirth\").printSchema()"
      ],
      "metadata": {
        "colab": {
          "base_uri": "https://localhost:8080/"
        },
        "collapsed": true,
        "id": "aKXSArL-2Oa0",
        "outputId": "fce91e97-023d-44e9-841f-908d93e5def6"
      },
      "execution_count": 74,
      "outputs": [
        {
          "output_type": "stream",
          "name": "stdout",
          "text": [
            "root\n",
            " |-- name: struct (nullable = true)\n",
            " |    |-- firstname: string (nullable = true)\n",
            " |    |-- middlename: string (nullable = true)\n",
            " |    |-- lastname: string (nullable = true)\n",
            " |-- DateOfBirth: string (nullable = true)\n",
            " |-- gender: string (nullable = true)\n",
            " |-- salary: integer (nullable = true)\n",
            "\n"
          ]
        }
      ]
    },
    {
      "cell_type": "code",
      "source": [
        "multiple_column_renamed_df = nested_df.withColumnRenamed(\"dob\",\"DateOfBirth\") \\\n",
        "    .withColumnRenamed(\"salary\",\"salary_amount\")\n",
        "multiple_column_renamed_df.printSchema()"
      ],
      "metadata": {
        "colab": {
          "base_uri": "https://localhost:8080/"
        },
        "collapsed": true,
        "id": "Fum6Vee65Jl2",
        "outputId": "d8f87032-9c75-4046-8acb-9479d3c45d30"
      },
      "execution_count": 75,
      "outputs": [
        {
          "output_type": "stream",
          "name": "stdout",
          "text": [
            "root\n",
            " |-- name: struct (nullable = true)\n",
            " |    |-- firstname: string (nullable = true)\n",
            " |    |-- middlename: string (nullable = true)\n",
            " |    |-- lastname: string (nullable = true)\n",
            " |-- DateOfBirth: string (nullable = true)\n",
            " |-- gender: string (nullable = true)\n",
            " |-- salary_amount: integer (nullable = true)\n",
            "\n"
          ]
        }
      ]
    },
    {
      "cell_type": "code",
      "source": [
        "schema2 = StructType([\n",
        "    StructField(\"fname\",StringType()),\n",
        "    StructField(\"midname\",StringType()),\n",
        "    StructField(\"lname\",StringType())])"
      ],
      "metadata": {
        "id": "hXjOzNPo7BZe"
      },
      "execution_count": 76,
      "outputs": []
    },
    {
      "cell_type": "code",
      "source": [
        "nested_df.select(col(\"name\").cast(schema2), \\\n",
        "     col(\"dob\"), col(\"gender\"),col(\"salary\")) \\\n",
        "   .printSchema()"
      ],
      "metadata": {
        "colab": {
          "base_uri": "https://localhost:8080/"
        },
        "collapsed": true,
        "id": "wjOKdC4z7CKF",
        "outputId": "dcd852ea-cdd4-430d-ed9b-ec7ab9cb4eba"
      },
      "execution_count": 77,
      "outputs": [
        {
          "output_type": "stream",
          "name": "stdout",
          "text": [
            "root\n",
            " |-- name: struct (nullable = true)\n",
            " |    |-- fname: string (nullable = true)\n",
            " |    |-- midname: string (nullable = true)\n",
            " |    |-- lname: string (nullable = true)\n",
            " |-- dob: string (nullable = true)\n",
            " |-- gender: string (nullable = true)\n",
            " |-- salary: integer (nullable = true)\n",
            "\n"
          ]
        }
      ]
    },
    {
      "cell_type": "markdown",
      "source": [
        "Transposing the structure to flat."
      ],
      "metadata": {
        "id": "jnRuxap98Sgc"
      }
    },
    {
      "cell_type": "code",
      "source": [
        "nested_df.select(col(\"name.firstname\").alias(\"fname\"), \\\n",
        "  col(\"name.middlename\").alias(\"mname\"), \\\n",
        "  col(\"name.lastname\").alias(\"lname\"), \\\n",
        "  col(\"dob\"),col(\"gender\"),col(\"salary\")) \\\n",
        "  .printSchema()"
      ],
      "metadata": {
        "collapsed": true,
        "colab": {
          "base_uri": "https://localhost:8080/"
        },
        "id": "BEU6kypH8Ch-",
        "outputId": "41b2c3fd-f1b8-476a-c7c3-aaff5879776e"
      },
      "execution_count": 85,
      "outputs": [
        {
          "output_type": "stream",
          "name": "stdout",
          "text": [
            "root\n",
            " |-- fname: string (nullable = true)\n",
            " |-- mname: string (nullable = true)\n",
            " |-- lname: string (nullable = true)\n",
            " |-- dob: string (nullable = true)\n",
            " |-- gender: string (nullable = true)\n",
            " |-- salary: integer (nullable = true)\n",
            "\n"
          ]
        }
      ]
    },
    {
      "cell_type": "code",
      "source": [
        "# Define the new column names\n",
        "newColumns = [\"firstname\", \"middlename\", \"lastname\", \"DOB\", \"Gender\", \"Salary\"]\n",
        "# Use the previously created df2 DataFrame\n",
        "renamed_df = df2.toDF(*newColumns)\n",
        "\n",
        "# Print the schema to verify\n",
        "renamed_df.printSchema()"
      ],
      "metadata": {
        "colab": {
          "base_uri": "https://localhost:8080/"
        },
        "collapsed": true,
        "id": "mtcmHPLu-Iig",
        "outputId": "673580a7-4821-4880-f8f1-b01b4749ffb4"
      },
      "execution_count": 86,
      "outputs": [
        {
          "output_type": "stream",
          "name": "stdout",
          "text": [
            "root\n",
            " |-- firstname: string (nullable = true)\n",
            " |-- middlename: string (nullable = true)\n",
            " |-- lastname: integer (nullable = true)\n",
            " |-- DOB: string (nullable = true)\n",
            " |-- Gender: string (nullable = true)\n",
            " |-- Salary: string (nullable = true)\n",
            "\n"
          ]
        }
      ]
    },
    {
      "cell_type": "code",
      "source": [
        "df2 = nested_df.withColumn(\"fname\",col(\"name.firstname\")) \\\n",
        "      .withColumn(\"mname\",col(\"name.middlename\")) \\\n",
        "      .withColumn(\"lname\",col(\"name.lastname\")) \\\n",
        "      .drop(\"name\")\n",
        "df2.printSchema()"
      ],
      "metadata": {
        "collapsed": true,
        "colab": {
          "base_uri": "https://localhost:8080/"
        },
        "id": "aabB2xZtAWQ2",
        "outputId": "8291cde5-fdc8-4479-fb49-4758dd21579e"
      },
      "execution_count": 87,
      "outputs": [
        {
          "output_type": "stream",
          "name": "stdout",
          "text": [
            "root\n",
            " |-- dob: string (nullable = true)\n",
            " |-- gender: string (nullable = true)\n",
            " |-- salary: integer (nullable = true)\n",
            " |-- fname: string (nullable = true)\n",
            " |-- mname: string (nullable = true)\n",
            " |-- lname: string (nullable = true)\n",
            "\n"
          ]
        }
      ]
    },
    {
      "cell_type": "markdown",
      "source": [
        "#withColumn()"
      ],
      "metadata": {
        "id": "-ScsvkI_DGEt"
      }
    },
    {
      "cell_type": "code",
      "source": [
        "data = [('James','','Smith','1991-04-01','M',3000),\n",
        "  ('Michael','Rose','','2000-05-19','M',4000),\n",
        "  ('Robert','','Williams','1978-09-05','M',4000),\n",
        "  ('Maria','Anne','Jones','1967-12-01','F',4000),\n",
        "  ('Jen','Mary','Brown','1980-02-17','F',1000)\n",
        "]\n",
        "\n",
        "columns = [\"firstname\",\"middlename\",\"lastname\",\"dob\",\"gender\",\"salary\"]\n",
        "column_df = spark.createDataFrame(data=data, schema = columns)"
      ],
      "metadata": {
        "id": "bWzmLBVLDjRG"
      },
      "execution_count": 118,
      "outputs": []
    },
    {
      "cell_type": "markdown",
      "source": [
        "Update Column Datatype"
      ],
      "metadata": {
        "id": "nQkRwJE2GHWp"
      }
    },
    {
      "cell_type": "code",
      "source": [
        "column_df.withColumn(\"salary\",col(\"salary\").cast(\"Integer\")).show()"
      ],
      "metadata": {
        "colab": {
          "base_uri": "https://localhost:8080/"
        },
        "collapsed": true,
        "id": "54DEe9l6EdY5",
        "outputId": "875d9e7c-ce6d-433b-fffd-b2dea5631e4f"
      },
      "execution_count": 119,
      "outputs": [
        {
          "output_type": "stream",
          "name": "stdout",
          "text": [
            "+---------+----------+--------+----------+------+------+\n",
            "|firstname|middlename|lastname|       dob|gender|salary|\n",
            "+---------+----------+--------+----------+------+------+\n",
            "|    James|          |   Smith|1991-04-01|     M|  3000|\n",
            "|  Michael|      Rose|        |2000-05-19|     M|  4000|\n",
            "|   Robert|          |Williams|1978-09-05|     M|  4000|\n",
            "|    Maria|      Anne|   Jones|1967-12-01|     F|  4000|\n",
            "|      Jen|      Mary|   Brown|1980-02-17|     F|  1000|\n",
            "+---------+----------+--------+----------+------+------+\n",
            "\n"
          ]
        }
      ]
    },
    {
      "cell_type": "markdown",
      "source": [
        "Update Column value"
      ],
      "metadata": {
        "id": "narrthoEGBW7"
      }
    },
    {
      "cell_type": "code",
      "source": [
        "column_df.withColumn(\"salary_inr\",col(\"salary\")*85).show()"
      ],
      "metadata": {
        "colab": {
          "base_uri": "https://localhost:8080/"
        },
        "collapsed": true,
        "id": "2Yp4DQalF6vf",
        "outputId": "bae46aae-ef07-438e-97a0-7f14f488a2df"
      },
      "execution_count": 123,
      "outputs": [
        {
          "output_type": "stream",
          "name": "stdout",
          "text": [
            "+---------+----------+--------+----------+------+------+----------+\n",
            "|firstname|middlename|lastname|       dob|gender|salary|salary_inr|\n",
            "+---------+----------+--------+----------+------+------+----------+\n",
            "|    James|          |   Smith|1991-04-01|     M|  3000|    255000|\n",
            "|  Michael|      Rose|        |2000-05-19|     M|  4000|    340000|\n",
            "|   Robert|          |Williams|1978-09-05|     M|  4000|    340000|\n",
            "|    Maria|      Anne|   Jones|1967-12-01|     F|  4000|    340000|\n",
            "|      Jen|      Mary|   Brown|1980-02-17|     F|  1000|     85000|\n",
            "+---------+----------+--------+----------+------+------+----------+\n",
            "\n"
          ]
        }
      ]
    },
    {
      "cell_type": "markdown",
      "source": [
        "Create a Column from an Existing"
      ],
      "metadata": {
        "id": "v3gFUsTrJCG-"
      }
    },
    {
      "cell_type": "code",
      "source": [
        "column_df.withColumn(\"Salary_AfterTax\",col(\"salary\")* 0.85).show()"
      ],
      "metadata": {
        "colab": {
          "base_uri": "https://localhost:8080/"
        },
        "collapsed": true,
        "id": "-1-Op7dZGW6A",
        "outputId": "7f27941a-66ea-4250-ef14-cc1e564cdfea"
      },
      "execution_count": 134,
      "outputs": [
        {
          "output_type": "stream",
          "name": "stdout",
          "text": [
            "+---------+----------+--------+----------+------+------+---------------+\n",
            "|firstname|middlename|lastname|       dob|gender|salary|Salary_AfterTax|\n",
            "+---------+----------+--------+----------+------+------+---------------+\n",
            "|    James|          |   Smith|1991-04-01|     M|  3000|         2550.0|\n",
            "|  Michael|      Rose|        |2000-05-19|     M|  4000|         3400.0|\n",
            "|   Robert|          |Williams|1978-09-05|     M|  4000|         3400.0|\n",
            "|    Maria|      Anne|   Jones|1967-12-01|     F|  4000|         3400.0|\n",
            "|      Jen|      Mary|   Brown|1980-02-17|     F|  1000|          850.0|\n",
            "+---------+----------+--------+----------+------+------+---------------+\n",
            "\n"
          ]
        }
      ]
    },
    {
      "cell_type": "markdown",
      "source": [
        "Adding New Column with Constant value"
      ],
      "metadata": {
        "id": "GFNcnVZDJE5f"
      }
    },
    {
      "cell_type": "code",
      "source": [
        "# df.withColumn(\"Client_Country\", lit(\"USA\")).show()\n",
        "column_df.withColumn(\"Client_Country\", lit(\"USA\")) \\\n",
        "  .withColumn(\"Country\",lit(\"India\")).show()"
      ],
      "metadata": {
        "colab": {
          "base_uri": "https://localhost:8080/"
        },
        "collapsed": true,
        "id": "fHUfx0iJIGXr",
        "outputId": "f8c0d7cc-4e27-40ba-e497-b08c5edc06d1"
      },
      "execution_count": 138,
      "outputs": [
        {
          "output_type": "stream",
          "name": "stdout",
          "text": [
            "+---------+----------+--------+----------+------+------+--------------+-------+\n",
            "|firstname|middlename|lastname|       dob|gender|salary|Client_Country|Country|\n",
            "+---------+----------+--------+----------+------+------+--------------+-------+\n",
            "|    James|          |   Smith|1991-04-01|     M|  3000|           USA|  India|\n",
            "|  Michael|      Rose|        |2000-05-19|     M|  4000|           USA|  India|\n",
            "|   Robert|          |Williams|1978-09-05|     M|  4000|           USA|  India|\n",
            "|    Maria|      Anne|   Jones|1967-12-01|     F|  4000|           USA|  India|\n",
            "|      Jen|      Mary|   Brown|1980-02-17|     F|  1000|           USA|  India|\n",
            "+---------+----------+--------+----------+------+------+--------------+-------+\n",
            "\n"
          ]
        }
      ]
    },
    {
      "cell_type": "markdown",
      "source": [
        "drop()"
      ],
      "metadata": {
        "id": "Tf3B8jzDJ0Pd"
      }
    },
    {
      "cell_type": "code",
      "source": [
        "salary_drop_column_df = column_df.drop(\"salary\")\n",
        "salary_drop_column_df.show()"
      ],
      "metadata": {
        "colab": {
          "base_uri": "https://localhost:8080/"
        },
        "id": "pVhbyF_JJ2IV",
        "outputId": "2ed23a82-1d7b-4d7e-c96e-c32d02db3285"
      },
      "execution_count": 144,
      "outputs": [
        {
          "output_type": "stream",
          "name": "stdout",
          "text": [
            "+---------+----------+--------+----------+------+\n",
            "|firstname|middlename|lastname|       dob|gender|\n",
            "+---------+----------+--------+----------+------+\n",
            "|    James|          |   Smith|1991-04-01|     M|\n",
            "|  Michael|      Rose|        |2000-05-19|     M|\n",
            "|   Robert|          |Williams|1978-09-05|     M|\n",
            "|    Maria|      Anne|   Jones|1967-12-01|     F|\n",
            "|      Jen|      Mary|   Brown|1980-02-17|     F|\n",
            "+---------+----------+--------+----------+------+\n",
            "\n"
          ]
        }
      ]
    }
  ]
}